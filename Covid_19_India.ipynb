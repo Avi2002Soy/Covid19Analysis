{
  "nbformat": 4,
  "nbformat_minor": 0,
  "metadata": {
    "colab": {
      "name": "Covid 19 India.ipynb",
      "private_outputs": true,
      "provenance": []
    },
    "kernelspec": {
      "name": "python3",
      "display_name": "Python 3"
    },
    "language_info": {
      "name": "python"
    }
  },
  "cells": [
    {
      "cell_type": "markdown",
      "source": [
        "# **Import the Required Libraries and read the files**"
      ],
      "metadata": {
        "id": "S-InUQ_38lTc"
      }
    },
    {
      "cell_type": "code",
      "execution_count": null,
      "metadata": {
        "id": "uCyPBX6oAevt"
      },
      "outputs": [],
      "source": [
        "import numpy as np \n",
        "import matplotlib.pyplot as plt \n",
        "import matplotlib.colors as mcolors\n",
        "import pandas as pd \n",
        "import random\n",
        "import math\n",
        "import time\n",
        "from sklearn.linear_model import LinearRegression, BayesianRidge\n",
        "from sklearn.model_selection import RandomizedSearchCV, train_test_split\n",
        "from sklearn.preprocessing import PolynomialFeatures\n",
        "from sklearn.svm import SVR\n",
        "from sklearn.metrics import mean_squared_error, mean_absolute_error\n",
        "import datetime\n",
        "import operator \n",
        "plt.style.use('fivethirtyeight')\n",
        "%matplotlib inline\n",
        "import warnings\n",
        "warnings.filterwarnings(\"ignore\")"
      ]
    },
    {
      "cell_type": "code",
      "source": [
        "#import the files from sources\n",
        "data_confirm= pd.read_csv('https://raw.githubusercontent.com/CSSEGISandData/COVID-19/master/csse_covid_19_data/csse_covid_19_time_series/time_series_covid19_confirmed_global.csv')\n",
        "data_death = pd.read_csv('https://raw.githubusercontent.com/CSSEGISandData/COVID-19/master/csse_covid_19_data/csse_covid_19_time_series/time_series_covid19_deaths_global.csv')\n",
        "data_recovery = pd.read_csv('https://raw.githubusercontent.com/CSSEGISandData/COVID-19/master/csse_covid_19_data/csse_covid_19_time_series/time_series_covid19_recovered_global.csv')\n",
        "latest_data = pd.read_csv('https://raw.githubusercontent.com/CSSEGISandData/COVID-19/master/csse_covid_19_data/csse_covid_19_daily_reports/01-27-2022.csv')"
      ],
      "metadata": {
        "id": "nVDHYjkF9MEM"
      },
      "execution_count": null,
      "outputs": []
    },
    {
      "cell_type": "code",
      "source": [
        "latest_data.head() #to see the latest data"
      ],
      "metadata": {
        "id": "bUyCR1E5-D2d"
      },
      "execution_count": null,
      "outputs": []
    },
    {
      "cell_type": "code",
      "source": [
        "data_confirm.head() #to see the confirmed data of each dates"
      ],
      "metadata": {
        "id": "jw1vLj67-dtE"
      },
      "execution_count": null,
      "outputs": []
    },
    {
      "cell_type": "code",
      "source": [
        "col=data_confirm.keys()"
      ],
      "metadata": {
        "id": "9Nk0qBAD-mEr"
      },
      "execution_count": null,
      "outputs": []
    },
    {
      "cell_type": "markdown",
      "source": [
        "***Get all Recovered, Death and Confirmed Cases from all the dates from Datasets.***"
      ],
      "metadata": {
        "id": "pM2bUdUN9nZN"
      }
    },
    {
      "cell_type": "code",
      "source": [
        "#we are getting all the confirmed , deaths, recovered cases in all the dates in a datasets\n",
        "confirmed = data_confirm.loc[:, col[4]:col[-1]]\n",
        "deaths = data_death.loc[:, col[4]:col[-1]]\n",
        "recoveries = data_recovery.loc[:, col[4]:col[-1]]\n",
        "dates = confirmed.keys()\n",
        "world_cases = []\n",
        "total_deaths = [] \n",
        "mortality_rate = []\n",
        "recovery_rate = [] \n",
        "total_recovered = [] \n",
        "total_active = [] \n",
        "\n",
        "for i in dates:\n",
        "    confirmed_sum = confirmed[i].sum()\n",
        "    death_sum = deaths[i].sum()\n",
        "    recovered_sum = recoveries[i].sum()\n",
        "    \n",
        "    # confirmed, deaths, recovered, and active\n",
        "    world_cases.append(confirmed_sum)\n",
        "    total_deaths.append(death_sum)\n",
        "    total_recovered.append(recovered_sum)\n",
        "    total_active.append(confirmed_sum-death_sum-recovered_sum)\n",
        "    \n",
        "    # calculate rates\n",
        "    mortality_rate.append(death_sum/confirmed_sum)\n",
        "    recovery_rate.append(recovered_sum/confirmed_sum)"
      ],
      "metadata": {
        "id": "MbH-GAtx-qe3"
      },
      "execution_count": null,
      "outputs": []
    },
    {
      "cell_type": "code",
      "source": [
        "#making function to get daily increases and averages\n",
        "def daily_increase(data):\n",
        "    d = [] \n",
        "    for i in range(len(data)):\n",
        "        if i == 0:\n",
        "            d.append(data[0])\n",
        "        else:\n",
        "            d.append(data[i]-data[i-1])\n",
        "    return d \n",
        "\n",
        "def average(data, window_size):\n",
        "    average = []\n",
        "    for i in range(len(data)):\n",
        "        if i + window_size < len(data):\n",
        "            average.append(np.mean(data[i:i+window_size]))\n",
        "        else:\n",
        "            average.append(np.mean(data[i:len(data)]))\n",
        "    return average"
      ],
      "metadata": {
        "id": "DxeU73aw_Vh4"
      },
      "execution_count": null,
      "outputs": []
    },
    {
      "cell_type": "code",
      "source": [
        "# window size\n",
        "window = 7 #for a week\n",
        "\n",
        "# confirmed cases\n",
        "world_daily_increase = daily_increase(world_cases)\n",
        "world_confirmed_avg= average(world_cases, window)\n",
        "world_daily_inc_avg = average(world_daily_increase, window)\n",
        "\n",
        "# deaths\n",
        "world_daily_death = daily_increase(total_deaths)\n",
        "world_death_avg = average(total_deaths, window)\n",
        "world_daily_death_avg = average(world_daily_death, window)\n",
        "\n",
        "\n",
        "# recoveries\n",
        "world_daily_recup = daily_increase(total_recovered)\n",
        "world_recup_avg = average(total_recovered, window)\n",
        "world_daily_recup_avg = average(world_daily_recup, window)\n",
        "\n",
        "\n",
        "# active \n",
        "world_active_avg = average(total_active, window)"
      ],
      "metadata": {
        "id": "Lu21QoNJ_aDb"
      },
      "execution_count": null,
      "outputs": []
    },
    {
      "cell_type": "code",
      "source": [
        "days_since_1_22 = np.array([i for i in range(len(dates))]).reshape(-1, 1)\n",
        "world_cases = np.array(world_cases).reshape(-1, 1)\n",
        "total_deaths = np.array(total_deaths).reshape(-1, 1)\n",
        "total_recovered = np.array(total_recovered).reshape(-1, 1)"
      ],
      "metadata": {
        "id": "7txP7is7_1uU"
      },
      "execution_count": null,
      "outputs": []
    },
    {
      "cell_type": "markdown",
      "source": [
        "## **`LET'S PREPARE FOR FUTURE FORECASTING`**\n",
        "\n"
      ],
      "metadata": {
        "id": "1gh8B0yu_79U"
      }
    },
    {
      "cell_type": "code",
      "source": [
        "future_days = 20\n",
        "future_forcast = np.array([i for i in range(len(dates)+future_days)]).reshape(-1, 1)\n",
        "adjust_dates = future_forcast[:-20]\n",
        "start = '1/22/2020'\n",
        "start_date = datetime.datetime.strptime(start, '%m/%d/%Y')\n",
        "future_forcast_dates = []\n",
        "for i in range(len(future_forcast)):\n",
        "    future_forcast_dates.append((start_date + datetime.timedelta(days=i)).strftime('%m/%d/%Y'))"
      ],
      "metadata": {
        "id": "JXSwr8ss_7nz"
      },
      "execution_count": null,
      "outputs": []
    },
    {
      "cell_type": "code",
      "source": [
        "#MAKING TRAINING AND TEST DATA\n",
        "X_train_confirmed, X_test_confirmed, y_train_confirmed, y_test_confirmed = train_test_split(days_since_1_22[50:], world_cases[50:], test_size=0.05, shuffle=False) "
      ],
      "metadata": {
        "id": "QEdx3QnlAc0P"
      },
      "execution_count": null,
      "outputs": []
    },
    {
      "cell_type": "markdown",
      "source": [
        "**Model For Predicting # of Confirmed cases using SVM(Support Vector Machine), Linear and Bayesian Ridge Regression**"
      ],
      "metadata": {
        "id": "tRxfiI2t-WJ5"
      }
    },
    {
      "cell_type": "code",
      "source": [
        "svm_confirmed = SVR(shrinking=True, kernel='poly',gamma=0.01, epsilon=1,degree=3, C=0.1)\n",
        "svm_confirmed.fit(X_train_confirmed, y_train_confirmed)\n",
        "svm_pred = svm_confirmed.predict(future_forcast)"
      ],
      "metadata": {
        "id": "iUCIB40jAwhv"
      },
      "execution_count": null,
      "outputs": []
    },
    {
      "cell_type": "code",
      "source": [
        "# check against testing data\n",
        "svm_pred_test = svm_confirmed.predict(X_test_confirmed)\n",
        "plt.plot(y_test_confirmed)\n",
        "plt.plot(svm_pred_test)\n",
        "plt.legend(['Test Data', 'SVM Predictions'])\n",
        "print('Mean Absolute Error:', mean_absolute_error(svm_pred_test, y_test_confirmed))\n",
        "print('Mean Square Error:',mean_squared_error(svm_pred_test, y_test_confirmed))"
      ],
      "metadata": {
        "id": "yylSgH1kA9ui"
      },
      "execution_count": null,
      "outputs": []
    },
    {
      "cell_type": "code",
      "source": [
        "#using polynomial regression, we are transforming the data\n",
        "avi = PolynomialFeatures(degree=4)\n",
        "avi_X_train_confirmed = avi.fit_transform(X_train_confirmed)\n",
        "avi_X_test_confirmed = avi.fit_transform(X_test_confirmed)\n",
        "avi_future_forcast = avi.fit_transform(future_forcast)\n",
        "\n",
        "bayesian_poly = PolynomialFeatures(degree=5)\n",
        "bayesian_poly_X_train_confirmed = bayesian_poly.fit_transform(X_train_confirmed)\n",
        "bayesian_poly_X_test_confirmed = bayesian_poly.fit_transform(X_test_confirmed)\n",
        "bayesian_poly_future_forcast = bayesian_poly.fit_transform(future_forcast)"
      ],
      "metadata": {
        "id": "bch-7sGMBSJu"
      },
      "execution_count": null,
      "outputs": []
    },
    {
      "cell_type": "code",
      "source": [
        "# polynomial regression\n",
        "linear_model = LinearRegression(normalize=True, fit_intercept=False)\n",
        "linear_model.fit(avi_X_train_confirmed, y_train_confirmed)\n",
        "test_linear_pred = linear_model.predict(avi_X_test_confirmed)\n",
        "linear_pred = linear_model.predict(avi_future_forcast)\n",
        "print('Mean Absolute Error :', mean_absolute_error(test_linear_pred, y_test_confirmed))\n",
        "print('Mean Squared Error:',mean_squared_error(test_linear_pred, y_test_confirmed))\n",
        "print(linear_model.coef_)"
      ],
      "metadata": {
        "id": "Aq8NaBwgBmJX"
      },
      "execution_count": null,
      "outputs": []
    },
    {
      "cell_type": "code",
      "source": [
        "plt.plot(y_test_confirmed)\n",
        "plt.plot(test_linear_pred)\n",
        "plt.legend(['Test Data', 'Polynomial Regression Predictions'])"
      ],
      "metadata": {
        "id": "jSiilCX5B8Ts"
      },
      "execution_count": null,
      "outputs": []
    },
    {
      "cell_type": "code",
      "source": [
        "# bayesian ridge polynomial regression\n",
        "total = [1e-6, 1e-5, 1e-4, 1e-3, 1e-2]\n",
        "alpha_1 = [1e-7, 1e-6, 1e-5, 1e-4, 1e-3]\n",
        "alpha_2 = [1e-7, 1e-6, 1e-5, 1e-4, 1e-3]\n",
        "lambda_1 = [1e-7, 1e-6, 1e-5, 1e-4, 1e-3]\n",
        "lambda_2 = [1e-7, 1e-6, 1e-5, 1e-4, 1e-3]\n",
        "normalize = [True, False]\n",
        "\n",
        "bayesian_grid = {'tol': total, 'alpha_1': alpha_1, 'alpha_2' : alpha_2, 'lambda_1': lambda_1, 'lambda_2' : lambda_2, \n",
        "                 'normalize' : normalize}\n",
        "\n",
        "bayesian = BayesianRidge(fit_intercept=False)\n",
        "bayesian_search = RandomizedSearchCV(bayesian, bayesian_grid, scoring='neg_mean_squared_error', cv=3, return_train_score=True, n_jobs=-1, n_iter=40, verbose=1)\n",
        "bayesian_search.fit(bayesian_poly_X_train_confirmed, y_train_confirmed)"
      ],
      "metadata": {
        "id": "rnvse6y8CARY"
      },
      "execution_count": null,
      "outputs": []
    },
    {
      "cell_type": "code",
      "source": [
        "bayesian_search.best_params_ #to find the best parameter for bayesian search"
      ],
      "metadata": {
        "id": "BX4uoHNDCMe3"
      },
      "execution_count": null,
      "outputs": []
    },
    {
      "cell_type": "code",
      "source": [
        "bayesian_confirmed = bayesian_search.best_estimator_\n",
        "test_bayesian_pred = bayesian_confirmed.predict(bayesian_poly_X_test_confirmed)\n",
        "bayesian_pred = bayesian_confirmed.predict(bayesian_poly_future_forcast)\n",
        "print('Mean Absolute Error :', mean_absolute_error(test_bayesian_pred, y_test_confirmed))\n",
        "print('Mean Squared Error :',mean_squared_error(test_bayesian_pred, y_test_confirmed))"
      ],
      "metadata": {
        "id": "CeGAzUkCCUXv"
      },
      "execution_count": null,
      "outputs": []
    },
    {
      "cell_type": "code",
      "source": [
        "plt.plot(y_test_confirmed)\n",
        "plt.plot(test_bayesian_pred)\n",
        "plt.legend(['Test Data', 'Bayesian Ridge Polynomial Predictions'])"
      ],
      "metadata": {
        "id": "VIpLYYoKCaS-"
      },
      "execution_count": null,
      "outputs": []
    },
    {
      "cell_type": "markdown",
      "source": [
        "***Graph on Numbers of Confirmed,Active,Deaths cases as well as Mortality and Recovery Rate***"
      ],
      "metadata": {
        "id": "JKyIPM1h-2Pd"
      }
    },
    {
      "cell_type": "code",
      "source": [
        "def flatten(arr):\n",
        "    a = [] \n",
        "    arr = arr.tolist()\n",
        "    for i in arr:\n",
        "        a.append(i[0])\n",
        "    return a"
      ],
      "metadata": {
        "id": "IW5v6bzyIh4z"
      },
      "execution_count": null,
      "outputs": []
    },
    {
      "cell_type": "code",
      "source": [
        "adjust_dates = adjust_dates.reshape(1, -1)[0]\n",
        "plt.figure(figsize=(16, 10))\n",
        "plt.plot(adjust_dates, world_cases)\n",
        "plt.plot(adjust_dates, world_confirmed_avg, linestyle='dashed', color='orange')\n",
        "plt.title('# of Coronavirus Cases Over Time', size=30)\n",
        "plt.xlabel('Days Since 1/22/2020', size=30)\n",
        "plt.ylabel('# of Cases', size=30)\n",
        "plt.legend(['Worldwide Coronavirus Cases', 'Moving Average {} Days'.format(window)], prop={'size': 20})\n",
        "plt.xticks(size=20)\n",
        "plt.yticks(size=20)\n",
        "plt.show()\n",
        "\n",
        "plt.figure(figsize=(16, 10))\n",
        "plt.plot(adjust_dates, total_deaths)\n",
        "plt.plot(adjust_dates, world_death_avg, linestyle='dashed', color='orange')\n",
        "plt.title('# of Coronavirus Deaths Over Time', size=30)\n",
        "plt.xlabel('Days Since 1/22/2020', size=30)\n",
        "plt.ylabel('# of Cases', size=30)\n",
        "plt.legend(['Worldwide Coronavirus Deaths', 'Moving Average {} Days'.format(window)], prop={'size': 20})\n",
        "plt.xticks(size=20)\n",
        "plt.yticks(size=20)\n",
        "plt.show()\n",
        "\n",
        "plt.figure(figsize=(16, 10))\n",
        "plt.plot(adjust_dates, total_recovered)\n",
        "plt.plot(adjust_dates, world_recup_avg, linestyle='dashed', color='orange')\n",
        "plt.title('# of Coronavirus Recoveries Over Time', size=30)\n",
        "plt.xlabel('Days Since 1/22/2020', size=30)\n",
        "plt.ylabel('# of Cases', size=30)\n",
        "plt.legend(['Worldwide Coronavirus Recoveries', 'Moving Average {} Days'.format(window)], prop={'size': 20})\n",
        "plt.xticks(size=20)\n",
        "plt.yticks(size=20)\n",
        "plt.show()\n",
        "\n",
        "plt.figure(figsize=(16, 10))\n",
        "plt.plot(adjust_dates, total_active)\n",
        "plt.plot(adjust_dates, world_active_avg, linestyle='dashed', color='orange')\n",
        "plt.title('# of Coronavirus Active Cases Over Time', size=30)\n",
        "plt.xlabel('Days Since 1/22/2020', size=30)\n",
        "plt.ylabel('# of Active Cases', size=30)\n",
        "plt.legend(['Worldwide Coronavirus Active Cases', 'Moving Average {} Days'.format(window)], prop={'size': 20})\n",
        "plt.xticks(size=20)\n",
        "plt.yticks(size=20)\n",
        "plt.show()"
      ],
      "metadata": {
        "id": "87l5k2YMIkEo"
      },
      "execution_count": null,
      "outputs": []
    },
    {
      "cell_type": "code",
      "source": [
        "plt.figure(figsize=(16, 10))\n",
        "plt.bar(adjust_dates, world_daily_increase)\n",
        "plt.plot(adjust_dates, world_daily_inc_avg, color='orange', linestyle='dashed')\n",
        "plt.title('World Daily Increases in Confirmed Cases', size=30)\n",
        "plt.xlabel('Days Since 1/22/2020', size=30)\n",
        "plt.ylabel('# of Cases', size=30)\n",
        "plt.legend(['Moving Average {} Days'.format(window), 'World Daily Increase in COVID-19 Cases'], prop={'size': 20})\n",
        "plt.xticks(size=20)\n",
        "plt.yticks(size=20)\n",
        "plt.show()\n",
        "\n",
        "plt.figure(figsize=(16, 10))\n",
        "plt.bar(adjust_dates, world_daily_death)\n",
        "plt.plot(adjust_dates, world_daily_death_avg, color='orange', linestyle='dashed')\n",
        "plt.title('World Daily Increases in Confirmed Deaths', size=30)\n",
        "plt.xlabel('Days Since 1/22/2020', size=30)\n",
        "plt.ylabel('# of Cases', size=30)\n",
        "plt.legend(['Moving Average {} Days'.format(window), 'World Daily Increase in COVID-19 Deaths'], prop={'size': 20})\n",
        "plt.xticks(size=20)\n",
        "plt.yticks(size=20)\n",
        "plt.show()\n",
        "\n",
        "plt.figure(figsize=(16, 10))\n",
        "plt.bar(adjust_dates, world_daily_recup)\n",
        "plt.plot(adjust_dates, world_daily_recup_avg, color='orange', linestyle='dashed')\n",
        "plt.title('World Daily Increases in Confirmed Recoveries', size=30)\n",
        "plt.xlabel('Days Since 1/22/2020', size=30)\n",
        "plt.ylabel('# of Cases', size=30)\n",
        "plt.legend(['Moving Average {} Days'.format(window), 'World Daily Increase in COVID-19 Recoveries'], prop={'size': 20})\n",
        "plt.xticks(size=20)\n",
        "plt.yticks(size=20)\n",
        "plt.show()"
      ],
      "metadata": {
        "id": "dPXQbetEJMtj"
      },
      "execution_count": null,
      "outputs": []
    },
    {
      "cell_type": "code",
      "source": [
        "plt.figure(figsize=(16, 10))\n",
        "plt.plot(adjust_dates, np.log10(world_cases))\n",
        "plt.title('Log of # of Coronavirus Cases Over Time', size=30)\n",
        "plt.xlabel('Days Since 1/22/2020', size=30)\n",
        "plt.ylabel('# of Cases', size=30)\n",
        "plt.xticks(size=20)\n",
        "plt.yticks(size=20)\n",
        "plt.show()\n",
        "\n",
        "plt.figure(figsize=(16, 10))\n",
        "plt.plot(adjust_dates, np.log10(total_deaths))\n",
        "plt.title('Log of # of Coronavirus Deaths Over Time', size=30)\n",
        "plt.xlabel('Days Since 1/22/2020', size=30)\n",
        "plt.ylabel('# of Cases', size=30)\n",
        "plt.xticks(size=20)\n",
        "plt.yticks(size=20)\n",
        "plt.show()\n",
        "\n",
        "plt.figure(figsize=(16, 10))\n",
        "plt.plot(adjust_dates, np.log10(total_recovered))\n",
        "plt.title('Log of # of Coronavirus Recoveries Over Time', size=30)\n",
        "plt.xlabel('Days Since 1/22/2020', size=30)\n",
        "plt.ylabel('# of Cases', size=30)\n",
        "plt.xticks(size=20)\n",
        "plt.yticks(size=20)\n",
        "plt.show()"
      ],
      "metadata": {
        "id": "8ScMnz2NJepb"
      },
      "execution_count": null,
      "outputs": []
    },
    {
      "cell_type": "code",
      "source": [
        "def country_plot(x, y1, y2, y3, y4, country):\n",
        "    # window is set as 14 in in the beginning of the notebook \n",
        "    confirmed_avg = average(y1, window)\n",
        "    confirmed_increase_avg = average(y2, window)\n",
        "    death_increase_avg = average(y3, window)\n",
        "    recovery_increase_avg = average(y4, window)\n",
        "    \n",
        "    plt.figure(figsize=(16, 10))\n",
        "    plt.plot(x, y1)\n",
        "    plt.plot(x, confirmed_avg, color='red', linestyle='dashed')\n",
        "    plt.legend(['{} Confirmed Cases'.format(country), 'Moving Average {} Days'.format(window)], prop={'size': 20})\n",
        "    plt.title('{} Confirmed Cases'.format(country), size=30)\n",
        "    plt.xlabel('Days Since 1/22/2020', size=30)\n",
        "    plt.ylabel('# of Cases', size=30)\n",
        "    plt.xticks(size=20)\n",
        "    plt.yticks(size=20)\n",
        "    plt.show()\n",
        "\n",
        "    plt.figure(figsize=(16, 10))\n",
        "    plt.bar(x, y2)\n",
        "    plt.plot(x, confirmed_increase_avg, color='red', linestyle='dashed')\n",
        "    plt.legend(['Moving Average {} Days'.format(window), '{} Daily Increase in Confirmed Cases'.format(country)], prop={'size': 20})\n",
        "    plt.title('{} Daily Increases in Confirmed Cases'.format(country), size=30)\n",
        "    plt.xlabel('Days Since 1/22/2020', size=30)\n",
        "    plt.ylabel('# of Cases', size=30)\n",
        "    plt.xticks(size=20)\n",
        "    plt.yticks(size=20)\n",
        "    plt.show()\n",
        "\n",
        "    plt.figure(figsize=(16, 10))\n",
        "    plt.bar(x, y3)\n",
        "    plt.plot(x, death_increase_avg, color='red', linestyle='dashed')\n",
        "    plt.legend(['Moving Average {} Days'.format(window), '{} Daily Increase in Confirmed Deaths'.format(country)], prop={'size': 20})\n",
        "    plt.title('{} Daily Increases in Deaths'.format(country), size=30)\n",
        "    plt.xlabel('Days Since 1/22/2020', size=30)\n",
        "    plt.ylabel('# of Cases', size=30)\n",
        "    plt.xticks(size=20)\n",
        "    plt.yticks(size=20)\n",
        "    plt.show()\n",
        "\n",
        "    plt.figure(figsize=(16, 10))\n",
        "    plt.bar(x, y4)\n",
        "    plt.plot(x, recovery_increase_avg, color='red', linestyle='dashed')\n",
        "    plt.legend(['Moving Average {} Days'.format(window), '{} Daily Increase in Confirmed Recoveries'.format(country)], prop={'size': 20})\n",
        "    plt.title('{} Daily Increases in Recoveries'.format(country), size=30)\n",
        "    plt.xlabel('Days Since 1/22/2020', size=30)\n",
        "    plt.ylabel('# of Cases', size=30)\n",
        "    plt.xticks(size=20)\n",
        "    plt.yticks(size=20)\n",
        "    plt.show()\n",
        "      \n",
        "# helper function for getting country's cases, deaths, and recoveries        \n",
        "def get_country_info(country_name):\n",
        "    country_cases = []\n",
        "    country_deaths = []\n",
        "    country_recoveries = []  \n",
        "    \n",
        "    for i in dates:\n",
        "        country_cases.append(data_confirm[data_confirm['Country/Region']==country_name][i].sum())\n",
        "        country_deaths.append(data_death[data_death['Country/Region']==country_name][i].sum())\n",
        "        country_recoveries.append(data_recovery[data_recovery['Country/Region']==country_name][i].sum())\n",
        "    return (country_cases, country_deaths, country_recoveries)\n",
        "    \n",
        "    \n",
        "def country_visualizations(country_name):\n",
        "    country_info = get_country_info(country_name)\n",
        "    country_cases = country_info[0]\n",
        "    country_deaths = country_info[1]\n",
        "    country_recoveries = country_info[2]\n",
        "    \n",
        "    country_daily_increase = daily_increase(country_cases)\n",
        "    country_daily_death = daily_increase(country_deaths)\n",
        "    country_daily_recovery = daily_increase(country_recoveries)\n",
        "    \n",
        "    country_plot(adjust_dates, country_cases, country_daily_increase, country_daily_death, country_daily_recovery, country_name)"
      ],
      "metadata": {
        "id": "30VFYHP5-6Qs"
      },
      "execution_count": null,
      "outputs": []
    },
    {
      "cell_type": "markdown",
      "source": [
        "***Country-Specific Graph Visualization***"
      ],
      "metadata": {
        "id": "tAY1VfJV_Lwq"
      }
    },
    {
      "cell_type": "code",
      "source": [
        "countries = ['US', 'Russia', 'India', 'Brazil', 'South Africa', 'China', 'Italy',\n",
        "             'Germany', 'Spain', 'France', 'United Kingdom', 'Bangladesh',\n",
        "            'Pakistan'] \n",
        "\n",
        "for country in countries:\n",
        "    country_visualizations(country)"
      ],
      "metadata": {
        "id": "2_qU3TygCmQn"
      },
      "execution_count": null,
      "outputs": []
    },
    {
      "cell_type": "code",
      "source": [
        "# to see the the data comparison of 5 below countries\n",
        "\n",
        "compare_countries = ['US', 'Brazil', 'India', 'Russia', 'South Africa'] \n",
        "graph_name = ['Coronavirus Confirmed Cases', 'Coronavirus Confirmed Deaths', 'Coronavirus Confirmed Recoveries']\n",
        "\n",
        "for num in range(3):\n",
        "    plt.figure(figsize=(16, 10))\n",
        "    for country in compare_countries:\n",
        "        plt.plot(get_country_info(country)[num])\n",
        "    plt.legend(compare_countries, prop={'size': 20})\n",
        "    plt.xlabel('Days since 3/1', size=30)\n",
        "    plt.ylabel('# of Cases', size=30)\n",
        "    plt.title(graph_name[num], size=30)\n",
        "    plt.xticks(size=20)\n",
        "    plt.yticks(size=20)\n",
        "    plt.show()"
      ],
      "metadata": {
        "id": "MMP7sH9TDJ3t"
      },
      "execution_count": null,
      "outputs": []
    },
    {
      "cell_type": "code",
      "source": [
        "def plot_predictions(x, y, pred, algo_name, color):\n",
        "    plt.figure(figsize=(16, 10))\n",
        "    plt.plot(x, y)\n",
        "    plt.plot(future_forcast, pred, linestyle='dashed', color=color)\n",
        "    plt.title('Worldwide Coronavirus Cases Over Time', size=30)\n",
        "    plt.xlabel('Days Since 1/22/2020', size=30)\n",
        "    plt.ylabel('# of Cases', size=30)\n",
        "    plt.legend(['Confirmed Cases', algo_name], prop={'size': 20})\n",
        "    plt.xticks(size=20)\n",
        "    plt.yticks(size=20)\n",
        "    plt.show()"
      ],
      "metadata": {
        "id": "wZl_dQXrDuER"
      },
      "execution_count": null,
      "outputs": []
    },
    {
      "cell_type": "markdown",
      "source": [
        "# **Predictions for Confirmed Covid Cases Worldwide**"
      ],
      "metadata": {
        "id": "P-MF0eWS_11w"
      }
    },
    {
      "cell_type": "code",
      "source": [
        "plot_predictions(adjust_dates, world_cases, svm_pred, 'SVM Predictions', 'red')"
      ],
      "metadata": {
        "id": "FAGt6Y5eD0jC"
      },
      "execution_count": null,
      "outputs": []
    },
    {
      "cell_type": "code",
      "source": [
        "plot_predictions(adjust_dates, world_cases, linear_pred, 'Polynomial Regression Predictions', 'orange')"
      ],
      "metadata": {
        "id": "vrAHBOl7D5rD"
      },
      "execution_count": null,
      "outputs": []
    },
    {
      "cell_type": "code",
      "source": [
        "plot_predictions(adjust_dates, world_cases, bayesian_pred, 'Bayesian Ridge Regression Predictions', 'green')"
      ],
      "metadata": {
        "id": "XeLgWQTsD9IU"
      },
      "execution_count": null,
      "outputs": []
    },
    {
      "cell_type": "code",
      "source": [
        "# Future predictions using SVM \n",
        "svm_df = pd.DataFrame({'Date': future_forcast_dates[-20:], 'SVM Predicted # of Confirmed Cases Worldwide': np.round(svm_pred[-20:])})\n",
        "svm_df.style.background_gradient(cmap='Reds')"
      ],
      "metadata": {
        "id": "BefKRJkzEBr_"
      },
      "execution_count": null,
      "outputs": []
    },
    {
      "cell_type": "code",
      "source": [
        "linear_pred = linear_pred.reshape(1,-1)[0]\n",
        "linear_df = pd.DataFrame({'Date': future_forcast_dates[-10:], 'Polynomial Predicted # of Confirmed Cases Worldwide': np.round(linear_pred[-10:])})\n",
        "linear_df.style.background_gradient(cmap='Reds')"
      ],
      "metadata": {
        "id": "PN0masKxEPdu"
      },
      "execution_count": null,
      "outputs": []
    },
    {
      "cell_type": "code",
      "source": [
        "# Future predictions using Bayesian Ridge \n",
        "bayesian_df = pd.DataFrame({'Date': future_forcast_dates[-10:], 'Bayesian Ridge Predicted # of Confirmed Cases Worldwide': np.round(bayesian_pred[-10:])})\n",
        "bayesian_df.style.background_gradient(cmap='Reds')"
      ],
      "metadata": {
        "id": "qe17_-h3ETdf"
      },
      "execution_count": null,
      "outputs": []
    },
    {
      "cell_type": "code",
      "source": [
        "mean_mortality_rate = np.mean(mortality_rate)\n",
        "plt.figure(figsize=(16, 10))\n",
        "plt.plot(adjust_dates, mortality_rate, color='orange')\n",
        "plt.axhline(y = mean_mortality_rate,linestyle='--', color='black')\n",
        "plt.title('Worldwide Mortality Rate of Coronavirus Over Time', size=30)\n",
        "plt.xlabel('Days Since 1/22/2020', size=30)\n",
        "plt.ylabel('Case Mortality Rate', size=30)\n",
        "plt.xticks(size=20)\n",
        "plt.yticks(size=20)\n",
        "plt.show()"
      ],
      "metadata": {
        "id": "ZaKJ_yTiEZLY"
      },
      "execution_count": null,
      "outputs": []
    },
    {
      "cell_type": "code",
      "source": [
        "mean_recovery_rate = np.mean(recovery_rate)\n",
        "plt.figure(figsize=(16, 10))\n",
        "plt.plot(adjust_dates, recovery_rate, color='blue')\n",
        "plt.title('Worldwide Recovery Rate of Coronavirus Over Time', size=30)\n",
        "plt.xlabel('Days Since 1/22/2020', size=30)\n",
        "plt.ylabel('Case Recovery Rate', size=30)\n",
        "plt.xticks(size=20)\n",
        "plt.yticks(size=20)\n",
        "plt.show()"
      ],
      "metadata": {
        "id": "WJuMjnm2Ef3J"
      },
      "execution_count": null,
      "outputs": []
    },
    {
      "cell_type": "code",
      "source": [
        "plt.figure(figsize=(16, 10))\n",
        "plt.plot(adjust_dates, total_deaths, color='r')\n",
        "plt.plot(adjust_dates, total_recovered, color='green')\n",
        "plt.legend(['death', 'recoveries'], loc='best', fontsize=25)\n",
        "plt.title('Worldwide Coronavirus Cases', size=30)\n",
        "plt.xlabel('Days Since 1/22/2020', size=30)\n",
        "plt.ylabel('# of Cases', size=30)\n",
        "plt.xticks(size=20)\n",
        "plt.yticks(size=20)\n",
        "plt.show()"
      ],
      "metadata": {
        "id": "sgj_c7GBEozg"
      },
      "execution_count": null,
      "outputs": []
    },
    {
      "cell_type": "code",
      "source": [
        "latest_data"
      ],
      "metadata": {
        "id": "_won2CriEvp2"
      },
      "execution_count": null,
      "outputs": []
    },
    {
      "cell_type": "code",
      "source": [
        "unique_countries =  list(latest_data['Country_Region'].unique())"
      ],
      "metadata": {
        "id": "LwzXMrRCE9rp"
      },
      "execution_count": null,
      "outputs": []
    },
    {
      "cell_type": "code",
      "source": [
        "country_confirmed_cases = []\n",
        "country_death_cases = [] \n",
        "country_active_cases = []\n",
        "country_recovery_cases = []\n",
        "country_incidence_rate = [] \n",
        "country_mortality_rate = [] \n",
        "\n",
        "no_cases = []\n",
        "for i in unique_countries:\n",
        "    cases = latest_data[latest_data['Country_Region']==i]['Confirmed'].sum()\n",
        "    if cases > 0:\n",
        "        country_confirmed_cases.append(cases)\n",
        "    else:\n",
        "        no_cases.append(i)\n",
        "        \n",
        "for i in no_cases:\n",
        "    unique_countries.remove(i)\n",
        "    \n",
        "# sort countries by the number of confirmed cases\n",
        "unique_countries = [k for k, v in sorted(zip(unique_countries, country_confirmed_cases), key=operator.itemgetter(1), reverse=True)]\n",
        "for i in range(len(unique_countries)):\n",
        "    country_confirmed_cases[i] = latest_data[latest_data['Country_Region']==unique_countries[i]]['Confirmed'].sum()\n",
        "    country_death_cases.append(latest_data[latest_data['Country_Region']==unique_countries[i]]['Deaths'].sum())\n",
        "    country_recovery_cases.append(latest_data[latest_data['Country_Region']==unique_countries[i]]['Recovered'].sum())\n",
        "    country_active_cases.append(latest_data[latest_data['Country_Region']==unique_countries[i]]['Active'].sum())\n",
        "    country_incidence_rate.append(latest_data[latest_data['Country_Region']==unique_countries[i]]['Incident_Rate'].sum())\n",
        "    country_mortality_rate.append(country_death_cases[i]/country_confirmed_cases[i])"
      ],
      "metadata": {
        "id": "pLs7gtXQFCF9"
      },
      "execution_count": null,
      "outputs": []
    },
    {
      "cell_type": "code",
      "source": [
        "country_df = pd.DataFrame({'Country Name': unique_countries, 'Number of Confirmed Cases': country_confirmed_cases,\n",
        "                          'Number of Deaths': country_death_cases, 'Number of Recoveries' : country_recovery_cases, \n",
        "                          'Number of Active Cases' : country_active_cases, 'Incidence Rate' : country_incidence_rate,\n",
        "                          'Mortality Rate': country_mortality_rate})\n",
        "# number of cases per country/region\n",
        "\n",
        "country_df.style.background_gradient(cmap='Oranges')"
      ],
      "metadata": {
        "id": "_6X7D88DFFn2"
      },
      "execution_count": null,
      "outputs": []
    },
    {
      "cell_type": "markdown",
      "source": [
        "## **State-wise Latest Covid Confirmed Cases**"
      ],
      "metadata": {
        "id": "X3GSqb8P_gRj"
      }
    },
    {
      "cell_type": "code",
      "source": [
        "unique_provinces =  list(latest_data['Province_State'].unique())\n",
        "province_confirmed_cases = []\n",
        "province_country = [] \n",
        "province_death_cases = [] \n",
        "# province_recovery_cases = []\n",
        "province_active = [] \n",
        "province_incidence_rate = []\n",
        "province_mortality_rate = [] \n",
        "\n",
        "no_cases = [] \n",
        "for i in unique_provinces:\n",
        "    cases = latest_data[latest_data['Province_State']==i]['Confirmed'].sum()\n",
        "    if cases > 0:\n",
        "        province_confirmed_cases.append(cases)\n",
        "    else:\n",
        "        no_cases.append(i)\n",
        " \n",
        "# remove areas with no confirmed cases\n",
        "for i in no_cases:\n",
        "    unique_provinces.remove(i)\n",
        "    \n",
        "unique_provinces = [k for k, v in sorted(zip(unique_provinces, province_confirmed_cases), key=operator.itemgetter(1), reverse=True)]\n",
        "for i in range(len(unique_provinces)):\n",
        "    province_confirmed_cases[i] = latest_data[latest_data['Province_State']==unique_provinces[i]]['Confirmed'].sum()\n",
        "    province_country.append(latest_data[latest_data['Province_State']==unique_provinces[i]]['Country_Region'].unique()[0])\n",
        "    province_death_cases.append(latest_data[latest_data['Province_State']==unique_provinces[i]]['Deaths'].sum())\n",
        "#     province_recovery_cases.append(latest_data[latest_data['Province_State']==unique_provinces[i]]['Recovered'].sum())\n",
        "    province_active.append(latest_data[latest_data['Province_State']==unique_provinces[i]]['Active'].sum())\n",
        "    province_incidence_rate.append(latest_data[latest_data['Province_State']==unique_provinces[i]]['Incident_Rate'].sum())\n",
        "    province_mortality_rate.append(province_death_cases[i]/province_confirmed_cases[i])"
      ],
      "metadata": {
        "id": "YwlBxJl2FMm1"
      },
      "execution_count": null,
      "outputs": []
    },
    {
      "cell_type": "code",
      "source": [
        "province_limit = 100 \n",
        "province_df = pd.DataFrame({'Province/State Name': unique_provinces[:province_limit], 'Country': province_country[:province_limit], 'Number of Confirmed Cases': province_confirmed_cases[:province_limit],\n",
        "                          'Number of Deaths': province_death_cases[:province_limit],'Number of Active Cases' : province_active[:province_limit], \n",
        "                            'Incidence Rate' : province_incidence_rate[:province_limit], 'Mortality Rate': province_mortality_rate[:province_limit]})\n",
        "# number of cases per country/region\n",
        "\n",
        "province_df.style.background_gradient(cmap='Oranges')"
      ],
      "metadata": {
        "id": "a6u2I_4rFYCE"
      },
      "execution_count": null,
      "outputs": []
    },
    {
      "cell_type": "code",
      "source": [
        "def country_table(country_name):\n",
        "    states = list(latest_data[latest_data['Country_Region']==country_name]['Province_State'].unique())\n",
        "    state_confirmed_cases = []\n",
        "    state_death_cases = [] \n",
        "    # state_recovery_cases = []\n",
        "    state_active = [] \n",
        "    state_incidence_rate = [] \n",
        "    state_mortality_rate = [] \n",
        "\n",
        "    no_cases = [] \n",
        "    for i in states:\n",
        "        cases = latest_data[latest_data['Province_State']==i]['Confirmed'].sum()\n",
        "        if cases > 0:\n",
        "            state_confirmed_cases.append(cases)\n",
        "        else:\n",
        "            no_cases.append(i)\n",
        "\n",
        "    # remove areas with no confirmed cases\n",
        "    for i in no_cases:\n",
        "        states.remove(i)\n",
        "\n",
        "    states = [k for k, v in sorted(zip(states, state_confirmed_cases), key=operator.itemgetter(1), reverse=True)]\n",
        "    for i in range(len(states)):\n",
        "        state_confirmed_cases[i] = latest_data[latest_data['Province_State']==states[i]]['Confirmed'].sum()\n",
        "        state_death_cases.append(latest_data[latest_data['Province_State']==states[i]]['Deaths'].sum())\n",
        "    #     state_recovery_cases.append(latest_data[latest_data['Province_State']==states[i]]['Recovered'].sum())\n",
        "        state_active.append(latest_data[latest_data['Province_State']==states[i]]['Active'].sum())\n",
        "        state_incidence_rate.append(latest_data[latest_data['Province_State']==states[i]]['Incident_Rate'].sum())\n",
        "        state_mortality_rate.append(state_death_cases[i]/state_confirmed_cases[i])\n",
        "        \n",
        "      \n",
        "    state_df = pd.DataFrame({'State Name': states, 'Number of Confirmed Cases': state_confirmed_cases,\n",
        "                              'Number of Deaths': state_death_cases, 'Number of Active Cases' : state_active, \n",
        "                             'Incidence Rate' : state_incidence_rate, 'Mortality Rate': state_mortality_rate})\n",
        "    # number of cases per country/region\n",
        "    return state_df"
      ],
      "metadata": {
        "id": "HhvJuBdIFfGR"
      },
      "execution_count": null,
      "outputs": []
    },
    {
      "cell_type": "code",
      "source": [
        "info_table = country_table('India')\n",
        "info_table.style.background_gradient(cmap='Oranges')"
      ],
      "metadata": {
        "id": "gvsZgSA2Fl_S"
      },
      "execution_count": null,
      "outputs": []
    },
    {
      "cell_type": "code",
      "source": [
        "total_world_cases = np.sum(country_confirmed_cases)\n",
        "us_confirmed = latest_data[latest_data['Country_Region']=='US']['Confirmed'].sum()\n",
        "outside_us_confirmed = total_world_cases - us_confirmed\n",
        "\n",
        "plt.figure(figsize=(16, 9))\n",
        "plt.barh('United States', us_confirmed)\n",
        "plt.barh('Outside United States', outside_us_confirmed)\n",
        "plt.title('# of Total Coronavirus Confirmed Cases', size=20)\n",
        "plt.xticks(size=20)\n",
        "plt.yticks(size=20)\n",
        "plt.show()\n",
        "\n",
        "\n",
        "plt.figure(figsize=(16, 9))\n",
        "plt.barh('United States', us_confirmed/total_world_cases)\n",
        "plt.barh('Outside United States', outside_us_confirmed/total_world_cases)\n",
        "plt.title('# of Coronavirus Confirmed Cases Expressed in Percentage', size=20)\n",
        "plt.xticks(size=20)\n",
        "plt.yticks(size=20)\n",
        "plt.show()"
      ],
      "metadata": {
        "id": "7CEnfNIkGfHp"
      },
      "execution_count": null,
      "outputs": []
    },
    {
      "cell_type": "code",
      "source": [
        "print('Outside United States {} cases ({}%):'.format(outside_us_confirmed, np.round((outside_us_confirmed/total_world_cases)*100, 1)))\n",
        "print('United States {} cases ({}%)'.format(us_confirmed, np.round((us_confirmed/total_world_cases)*100, 1)))\n",
        "print('Total: {} cases'.format(total_world_cases))"
      ],
      "metadata": {
        "id": "kKuSGa2MGwGc"
      },
      "execution_count": null,
      "outputs": []
    },
    {
      "cell_type": "code",
      "source": [
        "# Only show 15 countries with the most confirmed cases, the rest are grouped into the other category\n",
        "visual_unique_countries = [] \n",
        "visual_confirmed_cases = []\n",
        "others = np.sum(country_confirmed_cases[10:])\n",
        "\n",
        "for i in range(len(country_confirmed_cases[:10])):\n",
        "    visual_unique_countries.append(unique_countries[i])\n",
        "    visual_confirmed_cases.append(country_confirmed_cases[i])\n",
        "    \n",
        "visual_unique_countries.append('Others')\n",
        "visual_confirmed_cases.append(others)"
      ],
      "metadata": {
        "id": "7aGi0c14G0a1"
      },
      "execution_count": null,
      "outputs": []
    },
    {
      "cell_type": "code",
      "source": [
        "def plot_bar_graphs(x, y, title):\n",
        "    plt.figure(figsize=(16, 12))\n",
        "    plt.barh(x, y)\n",
        "    plt.title(title, size=20)\n",
        "    plt.xticks(size=20)\n",
        "    plt.yticks(size=20)\n",
        "    plt.show()\n",
        "    \n",
        "# good for a lot x values \n",
        "def plot_bar_graphs_tall(x, y, title):\n",
        "    plt.figure(figsize=(19, 18))\n",
        "    plt.barh(x, y)\n",
        "    plt.title(title, size=25)\n",
        "    plt.xticks(size=25)\n",
        "    plt.yticks(size=25)\n",
        "    plt.show()"
      ],
      "metadata": {
        "id": "4r2cvpI9G4hA"
      },
      "execution_count": null,
      "outputs": []
    },
    {
      "cell_type": "code",
      "source": [
        "plot_bar_graphs(visual_unique_countries, visual_confirmed_cases, '# of Covid-19 Confirmed Cases in Countries/Regions')"
      ],
      "metadata": {
        "id": "4PrTzdBqG7RL"
      },
      "execution_count": null,
      "outputs": []
    },
    {
      "cell_type": "code",
      "source": [
        "log_country_confirmed_cases = [math.log10(i) for i in visual_confirmed_cases]\n",
        "plot_bar_graphs(visual_unique_countries, log_country_confirmed_cases, 'Common Log # of Coronavirus Confirmed Cases in Countries/Regions')"
      ],
      "metadata": {
        "id": "_zr1MCQJG-W3"
      },
      "execution_count": null,
      "outputs": []
    },
    {
      "cell_type": "code",
      "source": [
        "visual_unique_provinces = [] \n",
        "visual_confirmed_cases2 = []\n",
        "others = np.sum(province_confirmed_cases[10:])\n",
        "for i in range(len(province_confirmed_cases[:10])):\n",
        "    visual_unique_provinces.append(unique_provinces[i])\n",
        "    visual_confirmed_cases2.append(province_confirmed_cases[i])\n",
        "\n",
        "visual_unique_provinces.append('Others')\n",
        "visual_confirmed_cases2.append(others)"
      ],
      "metadata": {
        "id": "KZu75zAUHSHa"
      },
      "execution_count": null,
      "outputs": []
    },
    {
      "cell_type": "code",
      "source": [
        "plot_bar_graphs(visual_unique_provinces, visual_confirmed_cases2, '# of Coronavirus Confirmed Cases in Provinces/States')"
      ],
      "metadata": {
        "id": "ARgNh7PWHVg7"
      },
      "execution_count": null,
      "outputs": []
    },
    {
      "cell_type": "code",
      "source": [
        "def plot_pie_charts(x, y, title):\n",
        "    # more muted color \n",
        "    c = ['lightcoral', 'rosybrown', 'sandybrown', 'navajowhite', 'gold',\n",
        "        'khaki', 'lightskyblue', 'turquoise', 'lightslategrey', 'thistle', 'pink']\n",
        "    plt.figure(figsize=(20,15))\n",
        "    plt.title(title, size=20)\n",
        "    plt.pie(y, colors=c,shadow=True, labels=y)\n",
        "    plt.legend(x, loc='best', fontsize=12)\n",
        "    plt.show()"
      ],
      "metadata": {
        "id": "Qh-xM5sgHcXt"
      },
      "execution_count": null,
      "outputs": []
    },
    {
      "cell_type": "code",
      "source": [
        "plot_pie_charts(visual_unique_countries, visual_confirmed_cases, 'Covid-19 Confirmed Cases per Country')"
      ],
      "metadata": {
        "id": "ogv1bSAuHeqO"
      },
      "execution_count": null,
      "outputs": []
    },
    {
      "cell_type": "code",
      "source": [
        "plot_pie_charts(visual_unique_provinces, visual_confirmed_cases2, 'Covid-19 Confirmed Cases per State/Province/Region')"
      ],
      "metadata": {
        "id": "pPTKmzVRHkw9"
      },
      "execution_count": null,
      "outputs": []
    },
    {
      "cell_type": "code",
      "source": [
        "# Plotting countries with regional data using a pie chart \n",
        "\n",
        "def plot_pie_country_with_regions(country_name, title):\n",
        "    regions = list(latest_data[latest_data['Country_Region']==country_name]['Province_State'].unique())\n",
        "    confirmed_cases = []\n",
        "    no_cases = [] \n",
        "    for i in regions:\n",
        "        cases = latest_data[latest_data['Province_State']==i]['Confirmed'].sum()\n",
        "        if cases > 0:\n",
        "            confirmed_cases.append(cases)\n",
        "        else:\n",
        "            no_cases.append(i)\n",
        "\n",
        "    # remove areas with no confirmed cases\n",
        "    for i in no_cases:\n",
        "        regions.remove(i)\n",
        "\n",
        "    # only show the top 5 states\n",
        "    regions = [k for k, v in sorted(zip(regions, confirmed_cases), key=operator.itemgetter(1), reverse=True)]\n",
        "\n",
        "    for i in range(len(regions)):\n",
        "        confirmed_cases[i] = latest_data[latest_data['Province_State']==regions[i]]['Confirmed'].sum()  \n",
        "    \n",
        "    # additional province/state will be considered \"others\"\n",
        "    \n",
        "    if(len(regions)>5):\n",
        "        regions_5 = regions[:5]\n",
        "        regions_5.append('Others')\n",
        "        confirmed_cases_5 = confirmed_cases[:5]\n",
        "        confirmed_cases_5.append(np.sum(confirmed_cases[5:]))\n",
        "        plot_pie_charts(regions_5,confirmed_cases_5, title)\n",
        "    else:\n",
        "        plot_pie_charts(regions,confirmed_cases, title)"
      ],
      "metadata": {
        "id": "TyKiALivHqkP"
      },
      "execution_count": null,
      "outputs": []
    },
    {
      "cell_type": "code",
      "source": [
        "#For each country , visualise the pie chart of the statewise country covid confirmed cases\n",
        "pie_chart_countries = ['US', 'Brazil', 'Russia', 'India', 'Peru', 'Mexico', 'Canada', \n",
        "                       'Australia', 'China', 'Italy', 'Germany', 'France', 'United Kingdom', 'Spain', 'Chile', 'Colombia', 'Netherlands', 'Argentina']\n",
        "\n",
        "for i in pie_chart_countries:\n",
        "    plot_pie_country_with_regions(i, 'Covid-19 Confirmed Cases in {}'.format(i))"
      ],
      "metadata": {
        "id": "MQ_WBWhjHrK9"
      },
      "execution_count": null,
      "outputs": []
    }
  ]
}